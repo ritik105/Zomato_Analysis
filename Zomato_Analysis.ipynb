{
  "cells": [
    {
      "cell_type": "markdown",
      "metadata": {
        "id": "view-in-github",
        "colab_type": "text"
      },
      "source": [
        "<a href=\"https://colab.research.google.com/github/ritik105/Zomato_Analysis/blob/main/Zomato_Analysis.ipynb\" target=\"_parent\"><img src=\"https://colab.research.google.com/assets/colab-badge.svg\" alt=\"Open In Colab\"/></a>"
      ]
    },
    {
      "cell_type": "markdown",
      "id": "539fa1ee",
      "metadata": {
        "id": "539fa1ee"
      },
      "source": [
        "## Zomato Data Analysis\n",
        "#### Zomato is an Indian multinational restaurant aggregator and food delivery company founded by Deepinder Goyal and Pankaj Chaddah in 2008. Zomato provides information, menus and user-reviews of restaurants as well as food delivery options from partner restaurants in select cities.\n",
        "#### This data contain all India Zomato store data which includes \n",
        "   * Names of Store\n",
        "   - Address of Store\n",
        "   - Locality \n",
        "   - City\n",
        "   - Rating of store\n",
        "   - Review"
      ]
    },
    {
      "cell_type": "code",
      "source": [
        "from google.colab import drive\n",
        "drive.mount('/content/drive')"
      ],
      "metadata": {
        "colab": {
          "base_uri": "https://localhost:8080/"
        },
        "id": "DswJdXddAL-q",
        "outputId": "57316721-50a5-492b-d2ee-d54dfa25a821"
      },
      "id": "DswJdXddAL-q",
      "execution_count": 5,
      "outputs": [
        {
          "output_type": "stream",
          "name": "stdout",
          "text": [
            "Drive already mounted at /content/drive; to attempt to forcibly remount, call drive.mount(\"/content/drive\", force_remount=True).\n"
          ]
        }
      ]
    },
    {
      "cell_type": "markdown",
      "id": "7078d28a",
      "metadata": {
        "id": "7078d28a"
      },
      "source": [
        "### Import Liberaries"
      ]
    },
    {
      "cell_type": "code",
      "execution_count": 6,
      "id": "a4362f00",
      "metadata": {
        "id": "a4362f00"
      },
      "outputs": [],
      "source": [
        "import pandas as pd\n",
        "import numpy as np\n",
        "import matplotlib.pyplot as plt, seaborn as sns"
      ]
    },
    {
      "cell_type": "code",
      "execution_count": 7,
      "id": "c970fd63",
      "metadata": {
        "id": "c970fd63"
      },
      "outputs": [],
      "source": [
        "df =pd.read_csv(\"/content/drive/MyDrive/Colab Notebooks/zomato_restaurants_in_India.csv\") # import zomato csv file for visualization"
      ]
    },
    {
      "cell_type": "code",
      "execution_count": 39,
      "id": "b8d02a2b",
      "metadata": {
        "scrolled": false,
        "colab": {
          "base_uri": "https://localhost:8080/",
          "height": 785
        },
        "id": "b8d02a2b",
        "outputId": "ea835a77-d8c8-43a5-d1cb-e23f328820c7"
      },
      "outputs": [
        {
          "output_type": "execute_result",
          "data": {
            "text/plain": [
              "    res_id                            name      establishment  \\\n",
              "0  3400299                     Bikanervala    ['Quick Bites']   \n",
              "1  3400005  Mama Chicken Mama Franky House    ['Quick Bites']   \n",
              "2  3401013                   Bhagat Halwai    ['Quick Bites']   \n",
              "3  3400290                   Bhagat Halwai    ['Quick Bites']   \n",
              "4  3401744     The Salt Cafe Kitchen & Bar  ['Casual Dining']   \n",
              "\n",
              "                                             address  city     locality  \\\n",
              "0  Kalyani Point, Near Tulsi Cinema, Bypass Road,...  Agra     Khandari   \n",
              "1        Main Market, Sadar Bazaar, Agra Cantt, Agra  Agra   Agra Cantt   \n",
              "2  62/1, Near Easy Day, West Shivaji Nagar, Goalp...  Agra     Shahganj   \n",
              "3  Near Anjana Cinema, Nehru Nagar, Civil Lines, ...  Agra  Civil Lines   \n",
              "4        1C,3rd Floor, Fatehabad Road, Tajganj, Agra  Agra      Tajganj   \n",
              "\n",
              "    latitude  longitude   locality_verbose  \\\n",
              "0  27.211450  78.002381     Khandari, Agra   \n",
              "1  27.160569  78.011583   Agra Cantt, Agra   \n",
              "2  27.182938  77.979684     Shahganj, Agra   \n",
              "3  27.205668  78.004799  Civil Lines, Agra   \n",
              "4  27.157709  78.052421      Tajganj, Agra   \n",
              "\n",
              "                                            cuisines  ...  \\\n",
              "0  North Indian, South Indian, Mithai, Street Foo...  ...   \n",
              "1  North Indian, Mughlai, Rolls, Chinese, Fast Fo...  ...   \n",
              "2                                  Fast Food, Mithai  ...   \n",
              "3          Desserts, Bakery, Fast Food, South Indian  ...   \n",
              "4                 North Indian, Continental, Italian  ...   \n",
              "\n",
              "  average_cost_for_two  price_range  \\\n",
              "0                  700            2   \n",
              "1                  600            2   \n",
              "2                  300            1   \n",
              "3                  300            1   \n",
              "4                 1000            3   \n",
              "\n",
              "                                          highlights aggregate_rating  \\\n",
              "0  ['Lunch', 'Takeaway Available', 'Credit Card',...              4.4   \n",
              "1  ['Delivery', 'No Alcohol Available', 'Dinner',...              4.4   \n",
              "2  ['No Alcohol Available', 'Dinner', 'Takeaway A...              4.2   \n",
              "3  ['Takeaway Available', 'Credit Card', 'Lunch',...              4.3   \n",
              "4  ['Lunch', 'Serves Alcohol', 'Cash', 'Credit Ca...              4.9   \n",
              "\n",
              "   rating_text votes  photo_count  opentable_support  delivery  takeaway  \n",
              "0    Very Good   814          154                0.0        -1        -1  \n",
              "1    Very Good  1203          161                0.0        -1        -1  \n",
              "2    Very Good   801          107                0.0         1        -1  \n",
              "3    Very Good   693          157                0.0         1        -1  \n",
              "4    Excellent   470          291                0.0         1        -1  \n",
              "\n",
              "[5 rows x 21 columns]"
            ],
            "text/html": [
              "\n",
              "  <div id=\"df-deb67050-1cd6-4b03-a613-f5d48555af86\">\n",
              "    <div class=\"colab-df-container\">\n",
              "      <div>\n",
              "<style scoped>\n",
              "    .dataframe tbody tr th:only-of-type {\n",
              "        vertical-align: middle;\n",
              "    }\n",
              "\n",
              "    .dataframe tbody tr th {\n",
              "        vertical-align: top;\n",
              "    }\n",
              "\n",
              "    .dataframe thead th {\n",
              "        text-align: right;\n",
              "    }\n",
              "</style>\n",
              "<table border=\"1\" class=\"dataframe\">\n",
              "  <thead>\n",
              "    <tr style=\"text-align: right;\">\n",
              "      <th></th>\n",
              "      <th>res_id</th>\n",
              "      <th>name</th>\n",
              "      <th>establishment</th>\n",
              "      <th>address</th>\n",
              "      <th>city</th>\n",
              "      <th>locality</th>\n",
              "      <th>latitude</th>\n",
              "      <th>longitude</th>\n",
              "      <th>locality_verbose</th>\n",
              "      <th>cuisines</th>\n",
              "      <th>...</th>\n",
              "      <th>average_cost_for_two</th>\n",
              "      <th>price_range</th>\n",
              "      <th>highlights</th>\n",
              "      <th>aggregate_rating</th>\n",
              "      <th>rating_text</th>\n",
              "      <th>votes</th>\n",
              "      <th>photo_count</th>\n",
              "      <th>opentable_support</th>\n",
              "      <th>delivery</th>\n",
              "      <th>takeaway</th>\n",
              "    </tr>\n",
              "  </thead>\n",
              "  <tbody>\n",
              "    <tr>\n",
              "      <th>0</th>\n",
              "      <td>3400299</td>\n",
              "      <td>Bikanervala</td>\n",
              "      <td>['Quick Bites']</td>\n",
              "      <td>Kalyani Point, Near Tulsi Cinema, Bypass Road,...</td>\n",
              "      <td>Agra</td>\n",
              "      <td>Khandari</td>\n",
              "      <td>27.211450</td>\n",
              "      <td>78.002381</td>\n",
              "      <td>Khandari, Agra</td>\n",
              "      <td>North Indian, South Indian, Mithai, Street Foo...</td>\n",
              "      <td>...</td>\n",
              "      <td>700</td>\n",
              "      <td>2</td>\n",
              "      <td>['Lunch', 'Takeaway Available', 'Credit Card',...</td>\n",
              "      <td>4.4</td>\n",
              "      <td>Very Good</td>\n",
              "      <td>814</td>\n",
              "      <td>154</td>\n",
              "      <td>0.0</td>\n",
              "      <td>-1</td>\n",
              "      <td>-1</td>\n",
              "    </tr>\n",
              "    <tr>\n",
              "      <th>1</th>\n",
              "      <td>3400005</td>\n",
              "      <td>Mama Chicken Mama Franky House</td>\n",
              "      <td>['Quick Bites']</td>\n",
              "      <td>Main Market, Sadar Bazaar, Agra Cantt, Agra</td>\n",
              "      <td>Agra</td>\n",
              "      <td>Agra Cantt</td>\n",
              "      <td>27.160569</td>\n",
              "      <td>78.011583</td>\n",
              "      <td>Agra Cantt, Agra</td>\n",
              "      <td>North Indian, Mughlai, Rolls, Chinese, Fast Fo...</td>\n",
              "      <td>...</td>\n",
              "      <td>600</td>\n",
              "      <td>2</td>\n",
              "      <td>['Delivery', 'No Alcohol Available', 'Dinner',...</td>\n",
              "      <td>4.4</td>\n",
              "      <td>Very Good</td>\n",
              "      <td>1203</td>\n",
              "      <td>161</td>\n",
              "      <td>0.0</td>\n",
              "      <td>-1</td>\n",
              "      <td>-1</td>\n",
              "    </tr>\n",
              "    <tr>\n",
              "      <th>2</th>\n",
              "      <td>3401013</td>\n",
              "      <td>Bhagat Halwai</td>\n",
              "      <td>['Quick Bites']</td>\n",
              "      <td>62/1, Near Easy Day, West Shivaji Nagar, Goalp...</td>\n",
              "      <td>Agra</td>\n",
              "      <td>Shahganj</td>\n",
              "      <td>27.182938</td>\n",
              "      <td>77.979684</td>\n",
              "      <td>Shahganj, Agra</td>\n",
              "      <td>Fast Food, Mithai</td>\n",
              "      <td>...</td>\n",
              "      <td>300</td>\n",
              "      <td>1</td>\n",
              "      <td>['No Alcohol Available', 'Dinner', 'Takeaway A...</td>\n",
              "      <td>4.2</td>\n",
              "      <td>Very Good</td>\n",
              "      <td>801</td>\n",
              "      <td>107</td>\n",
              "      <td>0.0</td>\n",
              "      <td>1</td>\n",
              "      <td>-1</td>\n",
              "    </tr>\n",
              "    <tr>\n",
              "      <th>3</th>\n",
              "      <td>3400290</td>\n",
              "      <td>Bhagat Halwai</td>\n",
              "      <td>['Quick Bites']</td>\n",
              "      <td>Near Anjana Cinema, Nehru Nagar, Civil Lines, ...</td>\n",
              "      <td>Agra</td>\n",
              "      <td>Civil Lines</td>\n",
              "      <td>27.205668</td>\n",
              "      <td>78.004799</td>\n",
              "      <td>Civil Lines, Agra</td>\n",
              "      <td>Desserts, Bakery, Fast Food, South Indian</td>\n",
              "      <td>...</td>\n",
              "      <td>300</td>\n",
              "      <td>1</td>\n",
              "      <td>['Takeaway Available', 'Credit Card', 'Lunch',...</td>\n",
              "      <td>4.3</td>\n",
              "      <td>Very Good</td>\n",
              "      <td>693</td>\n",
              "      <td>157</td>\n",
              "      <td>0.0</td>\n",
              "      <td>1</td>\n",
              "      <td>-1</td>\n",
              "    </tr>\n",
              "    <tr>\n",
              "      <th>4</th>\n",
              "      <td>3401744</td>\n",
              "      <td>The Salt Cafe Kitchen &amp; Bar</td>\n",
              "      <td>['Casual Dining']</td>\n",
              "      <td>1C,3rd Floor, Fatehabad Road, Tajganj, Agra</td>\n",
              "      <td>Agra</td>\n",
              "      <td>Tajganj</td>\n",
              "      <td>27.157709</td>\n",
              "      <td>78.052421</td>\n",
              "      <td>Tajganj, Agra</td>\n",
              "      <td>North Indian, Continental, Italian</td>\n",
              "      <td>...</td>\n",
              "      <td>1000</td>\n",
              "      <td>3</td>\n",
              "      <td>['Lunch', 'Serves Alcohol', 'Cash', 'Credit Ca...</td>\n",
              "      <td>4.9</td>\n",
              "      <td>Excellent</td>\n",
              "      <td>470</td>\n",
              "      <td>291</td>\n",
              "      <td>0.0</td>\n",
              "      <td>1</td>\n",
              "      <td>-1</td>\n",
              "    </tr>\n",
              "  </tbody>\n",
              "</table>\n",
              "<p>5 rows × 21 columns</p>\n",
              "</div>\n",
              "      <button class=\"colab-df-convert\" onclick=\"convertToInteractive('df-deb67050-1cd6-4b03-a613-f5d48555af86')\"\n",
              "              title=\"Convert this dataframe to an interactive table.\"\n",
              "              style=\"display:none;\">\n",
              "        \n",
              "  <svg xmlns=\"http://www.w3.org/2000/svg\" height=\"24px\"viewBox=\"0 0 24 24\"\n",
              "       width=\"24px\">\n",
              "    <path d=\"M0 0h24v24H0V0z\" fill=\"none\"/>\n",
              "    <path d=\"M18.56 5.44l.94 2.06.94-2.06 2.06-.94-2.06-.94-.94-2.06-.94 2.06-2.06.94zm-11 1L8.5 8.5l.94-2.06 2.06-.94-2.06-.94L8.5 2.5l-.94 2.06-2.06.94zm10 10l.94 2.06.94-2.06 2.06-.94-2.06-.94-.94-2.06-.94 2.06-2.06.94z\"/><path d=\"M17.41 7.96l-1.37-1.37c-.4-.4-.92-.59-1.43-.59-.52 0-1.04.2-1.43.59L10.3 9.45l-7.72 7.72c-.78.78-.78 2.05 0 2.83L4 21.41c.39.39.9.59 1.41.59.51 0 1.02-.2 1.41-.59l7.78-7.78 2.81-2.81c.8-.78.8-2.07 0-2.86zM5.41 20L4 18.59l7.72-7.72 1.47 1.35L5.41 20z\"/>\n",
              "  </svg>\n",
              "      </button>\n",
              "      \n",
              "  <style>\n",
              "    .colab-df-container {\n",
              "      display:flex;\n",
              "      flex-wrap:wrap;\n",
              "      gap: 12px;\n",
              "    }\n",
              "\n",
              "    .colab-df-convert {\n",
              "      background-color: #E8F0FE;\n",
              "      border: none;\n",
              "      border-radius: 50%;\n",
              "      cursor: pointer;\n",
              "      display: none;\n",
              "      fill: #1967D2;\n",
              "      height: 32px;\n",
              "      padding: 0 0 0 0;\n",
              "      width: 32px;\n",
              "    }\n",
              "\n",
              "    .colab-df-convert:hover {\n",
              "      background-color: #E2EBFA;\n",
              "      box-shadow: 0px 1px 2px rgba(60, 64, 67, 0.3), 0px 1px 3px 1px rgba(60, 64, 67, 0.15);\n",
              "      fill: #174EA6;\n",
              "    }\n",
              "\n",
              "    [theme=dark] .colab-df-convert {\n",
              "      background-color: #3B4455;\n",
              "      fill: #D2E3FC;\n",
              "    }\n",
              "\n",
              "    [theme=dark] .colab-df-convert:hover {\n",
              "      background-color: #434B5C;\n",
              "      box-shadow: 0px 1px 3px 1px rgba(0, 0, 0, 0.15);\n",
              "      filter: drop-shadow(0px 1px 2px rgba(0, 0, 0, 0.3));\n",
              "      fill: #FFFFFF;\n",
              "    }\n",
              "  </style>\n",
              "\n",
              "      <script>\n",
              "        const buttonEl =\n",
              "          document.querySelector('#df-deb67050-1cd6-4b03-a613-f5d48555af86 button.colab-df-convert');\n",
              "        buttonEl.style.display =\n",
              "          google.colab.kernel.accessAllowed ? 'block' : 'none';\n",
              "\n",
              "        async function convertToInteractive(key) {\n",
              "          const element = document.querySelector('#df-deb67050-1cd6-4b03-a613-f5d48555af86');\n",
              "          const dataTable =\n",
              "            await google.colab.kernel.invokeFunction('convertToInteractive',\n",
              "                                                     [key], {});\n",
              "          if (!dataTable) return;\n",
              "\n",
              "          const docLinkHtml = 'Like what you see? Visit the ' +\n",
              "            '<a target=\"_blank\" href=https://colab.research.google.com/notebooks/data_table.ipynb>data table notebook</a>'\n",
              "            + ' to learn more about interactive tables.';\n",
              "          element.innerHTML = '';\n",
              "          dataTable['output_type'] = 'display_data';\n",
              "          await google.colab.output.renderOutput(dataTable, element);\n",
              "          const docLink = document.createElement('div');\n",
              "          docLink.innerHTML = docLinkHtml;\n",
              "          element.appendChild(docLink);\n",
              "        }\n",
              "      </script>\n",
              "    </div>\n",
              "  </div>\n",
              "  "
            ]
          },
          "metadata": {},
          "execution_count": 39
        }
      ],
      "source": [
        "df.head() \n",
        "#head() is used to show top 5 rows from the dataset . If you want to see n number of rows then use head(n) instead of head()."
      ]
    },
    {
      "cell_type": "code",
      "execution_count": 9,
      "id": "d7d0d4c5",
      "metadata": {
        "colab": {
          "base_uri": "https://localhost:8080/",
          "height": 751
        },
        "id": "d7d0d4c5",
        "outputId": "6dc7fc47-5f65-428d-aefd-385ea4e78ca0"
      },
      "outputs": [
        {
          "output_type": "execute_result",
          "data": {
            "text/plain": [
              "          res_id                            name      establishment  \\\n",
              "211939   3202251  Kali Mirch Cafe And Restaurant  ['Casual Dining']   \n",
              "211940   3200996                      Raju Omlet    ['Quick Bites']   \n",
              "211941  18984164                The Grand Thakar  ['Casual Dining']   \n",
              "211942   3201138                          Subway    ['Quick Bites']   \n",
              "211943  18879846     Freshco's - The Health Cafe           ['Café']   \n",
              "\n",
              "                                                      url  \\\n",
              "211939  https://www.zomato.com/vadodara/kali-mirch-caf...   \n",
              "211940  https://www.zomato.com/vadodara/raju-omlet-kar...   \n",
              "211941  https://www.zomato.com/vadodara/the-grand-thak...   \n",
              "211942  https://www.zomato.com/vadodara/subway-1-akota...   \n",
              "211943  https://www.zomato.com/vadodara/freshcos-the-h...   \n",
              "\n",
              "                                                  address      city  city_id  \\\n",
              "211939  Manu Smriti Complex, Near Navrachna School, GI...  Vadodara       32   \n",
              "211940  Mahalaxmi Apartment, Opposite B O B, Karoli Ba...  Vadodara       32   \n",
              "211941  3rd Floor, Shreem Shalini Mall, Opposite Conqu...  Vadodara       32   \n",
              "211942  G-2, Vedant Platina, Near Cosmos, Akota, Vadodara  Vadodara       32   \n",
              "211943  Shop 7, Ground Floor, Opposite Natubhai Circle...  Vadodara       32   \n",
              "\n",
              "          locality   latitude  longitude  ... price_range  currency  \\\n",
              "211939   Fatehgunj  22.336931  73.192356  ...           2       Rs.   \n",
              "211940  Karelibaug  22.322455  73.197203  ...           1       Rs.   \n",
              "211941    Alkapuri  22.310563  73.171163  ...           2       Rs.   \n",
              "211942       Akota  22.270027  73.143068  ...           2       Rs.   \n",
              "211943    Vadiwadi  22.309935  73.158768  ...           2       Rs.   \n",
              "\n",
              "                                               highlights aggregate_rating  \\\n",
              "211939  ['Dinner', 'Cash', 'Lunch', 'Delivery', 'Indoo...              4.1   \n",
              "211940  ['Dinner', 'Cash', 'Takeaway Available', 'Debi...              4.1   \n",
              "211941  ['Dinner', 'Cash', 'Debit Card', 'Lunch', 'Tak...              4.0   \n",
              "211942  ['Dinner', 'Delivery', 'Credit Card', 'Lunch',...              3.7   \n",
              "211943  ['Dinner', 'Cash', 'Takeaway Available', 'Debi...              4.0   \n",
              "\n",
              "       rating_text  votes  photo_count opentable_support delivery  takeaway  \n",
              "211939   Very Good    243           40               0.0       -1        -1  \n",
              "211940   Very Good    187           40               0.0        1        -1  \n",
              "211941   Very Good    111           38               0.0       -1        -1  \n",
              "211942        Good    128           34               0.0        1        -1  \n",
              "211943   Very Good     93           53               0.0        1        -1  \n",
              "\n",
              "[5 rows x 26 columns]"
            ],
            "text/html": [
              "\n",
              "  <div id=\"df-ca4fc6f9-c4a4-469a-8747-9a6833944c8f\">\n",
              "    <div class=\"colab-df-container\">\n",
              "      <div>\n",
              "<style scoped>\n",
              "    .dataframe tbody tr th:only-of-type {\n",
              "        vertical-align: middle;\n",
              "    }\n",
              "\n",
              "    .dataframe tbody tr th {\n",
              "        vertical-align: top;\n",
              "    }\n",
              "\n",
              "    .dataframe thead th {\n",
              "        text-align: right;\n",
              "    }\n",
              "</style>\n",
              "<table border=\"1\" class=\"dataframe\">\n",
              "  <thead>\n",
              "    <tr style=\"text-align: right;\">\n",
              "      <th></th>\n",
              "      <th>res_id</th>\n",
              "      <th>name</th>\n",
              "      <th>establishment</th>\n",
              "      <th>url</th>\n",
              "      <th>address</th>\n",
              "      <th>city</th>\n",
              "      <th>city_id</th>\n",
              "      <th>locality</th>\n",
              "      <th>latitude</th>\n",
              "      <th>longitude</th>\n",
              "      <th>...</th>\n",
              "      <th>price_range</th>\n",
              "      <th>currency</th>\n",
              "      <th>highlights</th>\n",
              "      <th>aggregate_rating</th>\n",
              "      <th>rating_text</th>\n",
              "      <th>votes</th>\n",
              "      <th>photo_count</th>\n",
              "      <th>opentable_support</th>\n",
              "      <th>delivery</th>\n",
              "      <th>takeaway</th>\n",
              "    </tr>\n",
              "  </thead>\n",
              "  <tbody>\n",
              "    <tr>\n",
              "      <th>211939</th>\n",
              "      <td>3202251</td>\n",
              "      <td>Kali Mirch Cafe And Restaurant</td>\n",
              "      <td>['Casual Dining']</td>\n",
              "      <td>https://www.zomato.com/vadodara/kali-mirch-caf...</td>\n",
              "      <td>Manu Smriti Complex, Near Navrachna School, GI...</td>\n",
              "      <td>Vadodara</td>\n",
              "      <td>32</td>\n",
              "      <td>Fatehgunj</td>\n",
              "      <td>22.336931</td>\n",
              "      <td>73.192356</td>\n",
              "      <td>...</td>\n",
              "      <td>2</td>\n",
              "      <td>Rs.</td>\n",
              "      <td>['Dinner', 'Cash', 'Lunch', 'Delivery', 'Indoo...</td>\n",
              "      <td>4.1</td>\n",
              "      <td>Very Good</td>\n",
              "      <td>243</td>\n",
              "      <td>40</td>\n",
              "      <td>0.0</td>\n",
              "      <td>-1</td>\n",
              "      <td>-1</td>\n",
              "    </tr>\n",
              "    <tr>\n",
              "      <th>211940</th>\n",
              "      <td>3200996</td>\n",
              "      <td>Raju Omlet</td>\n",
              "      <td>['Quick Bites']</td>\n",
              "      <td>https://www.zomato.com/vadodara/raju-omlet-kar...</td>\n",
              "      <td>Mahalaxmi Apartment, Opposite B O B, Karoli Ba...</td>\n",
              "      <td>Vadodara</td>\n",
              "      <td>32</td>\n",
              "      <td>Karelibaug</td>\n",
              "      <td>22.322455</td>\n",
              "      <td>73.197203</td>\n",
              "      <td>...</td>\n",
              "      <td>1</td>\n",
              "      <td>Rs.</td>\n",
              "      <td>['Dinner', 'Cash', 'Takeaway Available', 'Debi...</td>\n",
              "      <td>4.1</td>\n",
              "      <td>Very Good</td>\n",
              "      <td>187</td>\n",
              "      <td>40</td>\n",
              "      <td>0.0</td>\n",
              "      <td>1</td>\n",
              "      <td>-1</td>\n",
              "    </tr>\n",
              "    <tr>\n",
              "      <th>211941</th>\n",
              "      <td>18984164</td>\n",
              "      <td>The Grand Thakar</td>\n",
              "      <td>['Casual Dining']</td>\n",
              "      <td>https://www.zomato.com/vadodara/the-grand-thak...</td>\n",
              "      <td>3rd Floor, Shreem Shalini Mall, Opposite Conqu...</td>\n",
              "      <td>Vadodara</td>\n",
              "      <td>32</td>\n",
              "      <td>Alkapuri</td>\n",
              "      <td>22.310563</td>\n",
              "      <td>73.171163</td>\n",
              "      <td>...</td>\n",
              "      <td>2</td>\n",
              "      <td>Rs.</td>\n",
              "      <td>['Dinner', 'Cash', 'Debit Card', 'Lunch', 'Tak...</td>\n",
              "      <td>4.0</td>\n",
              "      <td>Very Good</td>\n",
              "      <td>111</td>\n",
              "      <td>38</td>\n",
              "      <td>0.0</td>\n",
              "      <td>-1</td>\n",
              "      <td>-1</td>\n",
              "    </tr>\n",
              "    <tr>\n",
              "      <th>211942</th>\n",
              "      <td>3201138</td>\n",
              "      <td>Subway</td>\n",
              "      <td>['Quick Bites']</td>\n",
              "      <td>https://www.zomato.com/vadodara/subway-1-akota...</td>\n",
              "      <td>G-2, Vedant Platina, Near Cosmos, Akota, Vadodara</td>\n",
              "      <td>Vadodara</td>\n",
              "      <td>32</td>\n",
              "      <td>Akota</td>\n",
              "      <td>22.270027</td>\n",
              "      <td>73.143068</td>\n",
              "      <td>...</td>\n",
              "      <td>2</td>\n",
              "      <td>Rs.</td>\n",
              "      <td>['Dinner', 'Delivery', 'Credit Card', 'Lunch',...</td>\n",
              "      <td>3.7</td>\n",
              "      <td>Good</td>\n",
              "      <td>128</td>\n",
              "      <td>34</td>\n",
              "      <td>0.0</td>\n",
              "      <td>1</td>\n",
              "      <td>-1</td>\n",
              "    </tr>\n",
              "    <tr>\n",
              "      <th>211943</th>\n",
              "      <td>18879846</td>\n",
              "      <td>Freshco's - The Health Cafe</td>\n",
              "      <td>['Café']</td>\n",
              "      <td>https://www.zomato.com/vadodara/freshcos-the-h...</td>\n",
              "      <td>Shop 7, Ground Floor, Opposite Natubhai Circle...</td>\n",
              "      <td>Vadodara</td>\n",
              "      <td>32</td>\n",
              "      <td>Vadiwadi</td>\n",
              "      <td>22.309935</td>\n",
              "      <td>73.158768</td>\n",
              "      <td>...</td>\n",
              "      <td>2</td>\n",
              "      <td>Rs.</td>\n",
              "      <td>['Dinner', 'Cash', 'Takeaway Available', 'Debi...</td>\n",
              "      <td>4.0</td>\n",
              "      <td>Very Good</td>\n",
              "      <td>93</td>\n",
              "      <td>53</td>\n",
              "      <td>0.0</td>\n",
              "      <td>1</td>\n",
              "      <td>-1</td>\n",
              "    </tr>\n",
              "  </tbody>\n",
              "</table>\n",
              "<p>5 rows × 26 columns</p>\n",
              "</div>\n",
              "      <button class=\"colab-df-convert\" onclick=\"convertToInteractive('df-ca4fc6f9-c4a4-469a-8747-9a6833944c8f')\"\n",
              "              title=\"Convert this dataframe to an interactive table.\"\n",
              "              style=\"display:none;\">\n",
              "        \n",
              "  <svg xmlns=\"http://www.w3.org/2000/svg\" height=\"24px\"viewBox=\"0 0 24 24\"\n",
              "       width=\"24px\">\n",
              "    <path d=\"M0 0h24v24H0V0z\" fill=\"none\"/>\n",
              "    <path d=\"M18.56 5.44l.94 2.06.94-2.06 2.06-.94-2.06-.94-.94-2.06-.94 2.06-2.06.94zm-11 1L8.5 8.5l.94-2.06 2.06-.94-2.06-.94L8.5 2.5l-.94 2.06-2.06.94zm10 10l.94 2.06.94-2.06 2.06-.94-2.06-.94-.94-2.06-.94 2.06-2.06.94z\"/><path d=\"M17.41 7.96l-1.37-1.37c-.4-.4-.92-.59-1.43-.59-.52 0-1.04.2-1.43.59L10.3 9.45l-7.72 7.72c-.78.78-.78 2.05 0 2.83L4 21.41c.39.39.9.59 1.41.59.51 0 1.02-.2 1.41-.59l7.78-7.78 2.81-2.81c.8-.78.8-2.07 0-2.86zM5.41 20L4 18.59l7.72-7.72 1.47 1.35L5.41 20z\"/>\n",
              "  </svg>\n",
              "      </button>\n",
              "      \n",
              "  <style>\n",
              "    .colab-df-container {\n",
              "      display:flex;\n",
              "      flex-wrap:wrap;\n",
              "      gap: 12px;\n",
              "    }\n",
              "\n",
              "    .colab-df-convert {\n",
              "      background-color: #E8F0FE;\n",
              "      border: none;\n",
              "      border-radius: 50%;\n",
              "      cursor: pointer;\n",
              "      display: none;\n",
              "      fill: #1967D2;\n",
              "      height: 32px;\n",
              "      padding: 0 0 0 0;\n",
              "      width: 32px;\n",
              "    }\n",
              "\n",
              "    .colab-df-convert:hover {\n",
              "      background-color: #E2EBFA;\n",
              "      box-shadow: 0px 1px 2px rgba(60, 64, 67, 0.3), 0px 1px 3px 1px rgba(60, 64, 67, 0.15);\n",
              "      fill: #174EA6;\n",
              "    }\n",
              "\n",
              "    [theme=dark] .colab-df-convert {\n",
              "      background-color: #3B4455;\n",
              "      fill: #D2E3FC;\n",
              "    }\n",
              "\n",
              "    [theme=dark] .colab-df-convert:hover {\n",
              "      background-color: #434B5C;\n",
              "      box-shadow: 0px 1px 3px 1px rgba(0, 0, 0, 0.15);\n",
              "      filter: drop-shadow(0px 1px 2px rgba(0, 0, 0, 0.3));\n",
              "      fill: #FFFFFF;\n",
              "    }\n",
              "  </style>\n",
              "\n",
              "      <script>\n",
              "        const buttonEl =\n",
              "          document.querySelector('#df-ca4fc6f9-c4a4-469a-8747-9a6833944c8f button.colab-df-convert');\n",
              "        buttonEl.style.display =\n",
              "          google.colab.kernel.accessAllowed ? 'block' : 'none';\n",
              "\n",
              "        async function convertToInteractive(key) {\n",
              "          const element = document.querySelector('#df-ca4fc6f9-c4a4-469a-8747-9a6833944c8f');\n",
              "          const dataTable =\n",
              "            await google.colab.kernel.invokeFunction('convertToInteractive',\n",
              "                                                     [key], {});\n",
              "          if (!dataTable) return;\n",
              "\n",
              "          const docLinkHtml = 'Like what you see? Visit the ' +\n",
              "            '<a target=\"_blank\" href=https://colab.research.google.com/notebooks/data_table.ipynb>data table notebook</a>'\n",
              "            + ' to learn more about interactive tables.';\n",
              "          element.innerHTML = '';\n",
              "          dataTable['output_type'] = 'display_data';\n",
              "          await google.colab.output.renderOutput(dataTable, element);\n",
              "          const docLink = document.createElement('div');\n",
              "          docLink.innerHTML = docLinkHtml;\n",
              "          element.appendChild(docLink);\n",
              "        }\n",
              "      </script>\n",
              "    </div>\n",
              "  </div>\n",
              "  "
            ]
          },
          "metadata": {},
          "execution_count": 9
        }
      ],
      "source": [
        "df.tail()\n",
        "#tail() is used to show top last 5 rows from the dataset . If you want to see n number of rows from last then use tail(n) instead of tail()."
      ]
    },
    {
      "cell_type": "code",
      "execution_count": 10,
      "id": "89fb3ead",
      "metadata": {
        "colab": {
          "base_uri": "https://localhost:8080/"
        },
        "id": "89fb3ead",
        "outputId": "3bb2036a-76e8-440b-e757-cad4d82f4e72"
      },
      "outputs": [
        {
          "output_type": "execute_result",
          "data": {
            "text/plain": [
              "['res_id',\n",
              " 'name',\n",
              " 'establishment',\n",
              " 'url',\n",
              " 'address',\n",
              " 'city',\n",
              " 'city_id',\n",
              " 'locality',\n",
              " 'latitude',\n",
              " 'longitude',\n",
              " 'zipcode',\n",
              " 'country_id',\n",
              " 'locality_verbose',\n",
              " 'cuisines',\n",
              " 'timings',\n",
              " 'average_cost_for_two',\n",
              " 'price_range',\n",
              " 'currency',\n",
              " 'highlights',\n",
              " 'aggregate_rating',\n",
              " 'rating_text',\n",
              " 'votes',\n",
              " 'photo_count',\n",
              " 'opentable_support',\n",
              " 'delivery',\n",
              " 'takeaway']"
            ]
          },
          "metadata": {},
          "execution_count": 10
        }
      ],
      "source": [
        "list(df.columns)\n",
        "# here list is used to display coloumns name "
      ]
    },
    {
      "cell_type": "code",
      "execution_count": 11,
      "id": "61a3efac",
      "metadata": {
        "colab": {
          "base_uri": "https://localhost:8080/"
        },
        "id": "61a3efac",
        "outputId": "d0413d8f-b0ff-473f-f712-4afd294b4521"
      },
      "outputs": [
        {
          "output_type": "execute_result",
          "data": {
            "text/plain": [
              "(211944, 26)"
            ]
          },
          "metadata": {},
          "execution_count": 11
        }
      ],
      "source": [
        "df.shape"
      ]
    },
    {
      "cell_type": "code",
      "execution_count": 12,
      "id": "97af3873",
      "metadata": {
        "colab": {
          "base_uri": "https://localhost:8080/"
        },
        "id": "97af3873",
        "outputId": "d55d025a-937f-4fa8-be24-0f75572e20bf"
      },
      "outputs": [
        {
          "output_type": "execute_result",
          "data": {
            "text/plain": [
              "res_id                       0\n",
              "name                         0\n",
              "establishment                0\n",
              "url                          0\n",
              "address                    134\n",
              "city                         0\n",
              "city_id                      0\n",
              "locality                     0\n",
              "latitude                     0\n",
              "longitude                    0\n",
              "zipcode                 163187\n",
              "country_id                   0\n",
              "locality_verbose             0\n",
              "cuisines                  1391\n",
              "timings                   3874\n",
              "average_cost_for_two         0\n",
              "price_range                  0\n",
              "currency                     0\n",
              "highlights                   0\n",
              "aggregate_rating             0\n",
              "rating_text                  0\n",
              "votes                        0\n",
              "photo_count                  0\n",
              "opentable_support           48\n",
              "delivery                     0\n",
              "takeaway                     0\n",
              "dtype: int64"
            ]
          },
          "metadata": {},
          "execution_count": 12
        }
      ],
      "source": [
        "df.isnull().sum() # to see null values in the data \n"
      ]
    },
    {
      "cell_type": "markdown",
      "id": "459e04fa",
      "metadata": {
        "id": "459e04fa"
      },
      "source": [
        "**Conclusion** : here **address** consists **134** null values ,**zipcode** consists **163187** null values, **cuisines** consists **1391** null values, **timings** consists **3874** null values and **opentable_support** consists **48** null values"
      ]
    },
    {
      "cell_type": "code",
      "execution_count": 13,
      "id": "a33bbb80",
      "metadata": {
        "colab": {
          "base_uri": "https://localhost:8080/"
        },
        "id": "a33bbb80",
        "outputId": "a4b0ff58-9980-4c66-c50f-6ccb6c5bb395"
      },
      "outputs": [
        {
          "output_type": "execute_result",
          "data": {
            "text/plain": [
              "0    ['Lunch', 'Takeaway Available', 'Credit Card',...\n",
              "1    ['Delivery', 'No Alcohol Available', 'Dinner',...\n",
              "2    ['No Alcohol Available', 'Dinner', 'Takeaway A...\n",
              "3    ['Takeaway Available', 'Credit Card', 'Lunch',...\n",
              "4    ['Lunch', 'Serves Alcohol', 'Cash', 'Credit Ca...\n",
              "Name: highlights, dtype: object"
            ]
          },
          "metadata": {},
          "execution_count": 13
        }
      ],
      "source": [
        "df[\"highlights\"].head() # to see values of highlights column"
      ]
    },
    {
      "cell_type": "code",
      "execution_count": 14,
      "id": "5932c457",
      "metadata": {
        "colab": {
          "base_uri": "https://localhost:8080/",
          "height": 364
        },
        "id": "5932c457",
        "outputId": "0f639c14-3de8-490e-ed18-e51a03bf498c"
      },
      "outputs": [
        {
          "output_type": "execute_result",
          "data": {
            "text/plain": [
              "             res_id        city_id       latitude      longitude  country_id  \\\n",
              "count  2.119440e+05  211944.000000  211944.000000  211944.000000    211944.0   \n",
              "mean   1.349411e+07    4746.785434      21.499758      77.615276         1.0   \n",
              "std    7.883722e+06    5568.766386      22.781331       7.500104         0.0   \n",
              "min    5.000000e+01       1.000000       0.000000       0.000000         1.0   \n",
              "25%    3.301027e+06      11.000000      15.496071      74.877961         1.0   \n",
              "50%    1.869573e+07      34.000000      22.514494      77.425971         1.0   \n",
              "75%    1.881297e+07   11306.000000      26.841667      80.219323         1.0   \n",
              "max    1.915979e+07   11354.000000   10000.000000      91.832769         1.0   \n",
              "\n",
              "       average_cost_for_two    price_range  aggregate_rating          votes  \\\n",
              "count         211944.000000  211944.000000     211944.000000  211944.000000   \n",
              "mean             595.812229       1.882535          3.395937     378.001864   \n",
              "std              606.239363       0.892989          1.283642     925.333370   \n",
              "min                0.000000       1.000000          0.000000     -18.000000   \n",
              "25%              250.000000       1.000000          3.300000      16.000000   \n",
              "50%              400.000000       2.000000          3.800000     100.000000   \n",
              "75%              700.000000       2.000000          4.100000     362.000000   \n",
              "max            30000.000000       4.000000          4.900000   42539.000000   \n",
              "\n",
              "         photo_count  opentable_support       delivery  takeaway  \n",
              "count  211944.000000           211896.0  211944.000000  211944.0  \n",
              "mean      256.971224                0.0      -0.255907      -1.0  \n",
              "std       867.668940                0.0       0.964172       0.0  \n",
              "min         0.000000                0.0      -1.000000      -1.0  \n",
              "25%         3.000000                0.0      -1.000000      -1.0  \n",
              "50%        18.000000                0.0      -1.000000      -1.0  \n",
              "75%       128.000000                0.0       1.000000      -1.0  \n",
              "max     17702.000000                0.0       1.000000      -1.0  "
            ],
            "text/html": [
              "\n",
              "  <div id=\"df-a90d3d28-4b42-43c6-988e-997584917dc3\">\n",
              "    <div class=\"colab-df-container\">\n",
              "      <div>\n",
              "<style scoped>\n",
              "    .dataframe tbody tr th:only-of-type {\n",
              "        vertical-align: middle;\n",
              "    }\n",
              "\n",
              "    .dataframe tbody tr th {\n",
              "        vertical-align: top;\n",
              "    }\n",
              "\n",
              "    .dataframe thead th {\n",
              "        text-align: right;\n",
              "    }\n",
              "</style>\n",
              "<table border=\"1\" class=\"dataframe\">\n",
              "  <thead>\n",
              "    <tr style=\"text-align: right;\">\n",
              "      <th></th>\n",
              "      <th>res_id</th>\n",
              "      <th>city_id</th>\n",
              "      <th>latitude</th>\n",
              "      <th>longitude</th>\n",
              "      <th>country_id</th>\n",
              "      <th>average_cost_for_two</th>\n",
              "      <th>price_range</th>\n",
              "      <th>aggregate_rating</th>\n",
              "      <th>votes</th>\n",
              "      <th>photo_count</th>\n",
              "      <th>opentable_support</th>\n",
              "      <th>delivery</th>\n",
              "      <th>takeaway</th>\n",
              "    </tr>\n",
              "  </thead>\n",
              "  <tbody>\n",
              "    <tr>\n",
              "      <th>count</th>\n",
              "      <td>2.119440e+05</td>\n",
              "      <td>211944.000000</td>\n",
              "      <td>211944.000000</td>\n",
              "      <td>211944.000000</td>\n",
              "      <td>211944.0</td>\n",
              "      <td>211944.000000</td>\n",
              "      <td>211944.000000</td>\n",
              "      <td>211944.000000</td>\n",
              "      <td>211944.000000</td>\n",
              "      <td>211944.000000</td>\n",
              "      <td>211896.0</td>\n",
              "      <td>211944.000000</td>\n",
              "      <td>211944.0</td>\n",
              "    </tr>\n",
              "    <tr>\n",
              "      <th>mean</th>\n",
              "      <td>1.349411e+07</td>\n",
              "      <td>4746.785434</td>\n",
              "      <td>21.499758</td>\n",
              "      <td>77.615276</td>\n",
              "      <td>1.0</td>\n",
              "      <td>595.812229</td>\n",
              "      <td>1.882535</td>\n",
              "      <td>3.395937</td>\n",
              "      <td>378.001864</td>\n",
              "      <td>256.971224</td>\n",
              "      <td>0.0</td>\n",
              "      <td>-0.255907</td>\n",
              "      <td>-1.0</td>\n",
              "    </tr>\n",
              "    <tr>\n",
              "      <th>std</th>\n",
              "      <td>7.883722e+06</td>\n",
              "      <td>5568.766386</td>\n",
              "      <td>22.781331</td>\n",
              "      <td>7.500104</td>\n",
              "      <td>0.0</td>\n",
              "      <td>606.239363</td>\n",
              "      <td>0.892989</td>\n",
              "      <td>1.283642</td>\n",
              "      <td>925.333370</td>\n",
              "      <td>867.668940</td>\n",
              "      <td>0.0</td>\n",
              "      <td>0.964172</td>\n",
              "      <td>0.0</td>\n",
              "    </tr>\n",
              "    <tr>\n",
              "      <th>min</th>\n",
              "      <td>5.000000e+01</td>\n",
              "      <td>1.000000</td>\n",
              "      <td>0.000000</td>\n",
              "      <td>0.000000</td>\n",
              "      <td>1.0</td>\n",
              "      <td>0.000000</td>\n",
              "      <td>1.000000</td>\n",
              "      <td>0.000000</td>\n",
              "      <td>-18.000000</td>\n",
              "      <td>0.000000</td>\n",
              "      <td>0.0</td>\n",
              "      <td>-1.000000</td>\n",
              "      <td>-1.0</td>\n",
              "    </tr>\n",
              "    <tr>\n",
              "      <th>25%</th>\n",
              "      <td>3.301027e+06</td>\n",
              "      <td>11.000000</td>\n",
              "      <td>15.496071</td>\n",
              "      <td>74.877961</td>\n",
              "      <td>1.0</td>\n",
              "      <td>250.000000</td>\n",
              "      <td>1.000000</td>\n",
              "      <td>3.300000</td>\n",
              "      <td>16.000000</td>\n",
              "      <td>3.000000</td>\n",
              "      <td>0.0</td>\n",
              "      <td>-1.000000</td>\n",
              "      <td>-1.0</td>\n",
              "    </tr>\n",
              "    <tr>\n",
              "      <th>50%</th>\n",
              "      <td>1.869573e+07</td>\n",
              "      <td>34.000000</td>\n",
              "      <td>22.514494</td>\n",
              "      <td>77.425971</td>\n",
              "      <td>1.0</td>\n",
              "      <td>400.000000</td>\n",
              "      <td>2.000000</td>\n",
              "      <td>3.800000</td>\n",
              "      <td>100.000000</td>\n",
              "      <td>18.000000</td>\n",
              "      <td>0.0</td>\n",
              "      <td>-1.000000</td>\n",
              "      <td>-1.0</td>\n",
              "    </tr>\n",
              "    <tr>\n",
              "      <th>75%</th>\n",
              "      <td>1.881297e+07</td>\n",
              "      <td>11306.000000</td>\n",
              "      <td>26.841667</td>\n",
              "      <td>80.219323</td>\n",
              "      <td>1.0</td>\n",
              "      <td>700.000000</td>\n",
              "      <td>2.000000</td>\n",
              "      <td>4.100000</td>\n",
              "      <td>362.000000</td>\n",
              "      <td>128.000000</td>\n",
              "      <td>0.0</td>\n",
              "      <td>1.000000</td>\n",
              "      <td>-1.0</td>\n",
              "    </tr>\n",
              "    <tr>\n",
              "      <th>max</th>\n",
              "      <td>1.915979e+07</td>\n",
              "      <td>11354.000000</td>\n",
              "      <td>10000.000000</td>\n",
              "      <td>91.832769</td>\n",
              "      <td>1.0</td>\n",
              "      <td>30000.000000</td>\n",
              "      <td>4.000000</td>\n",
              "      <td>4.900000</td>\n",
              "      <td>42539.000000</td>\n",
              "      <td>17702.000000</td>\n",
              "      <td>0.0</td>\n",
              "      <td>1.000000</td>\n",
              "      <td>-1.0</td>\n",
              "    </tr>\n",
              "  </tbody>\n",
              "</table>\n",
              "</div>\n",
              "      <button class=\"colab-df-convert\" onclick=\"convertToInteractive('df-a90d3d28-4b42-43c6-988e-997584917dc3')\"\n",
              "              title=\"Convert this dataframe to an interactive table.\"\n",
              "              style=\"display:none;\">\n",
              "        \n",
              "  <svg xmlns=\"http://www.w3.org/2000/svg\" height=\"24px\"viewBox=\"0 0 24 24\"\n",
              "       width=\"24px\">\n",
              "    <path d=\"M0 0h24v24H0V0z\" fill=\"none\"/>\n",
              "    <path d=\"M18.56 5.44l.94 2.06.94-2.06 2.06-.94-2.06-.94-.94-2.06-.94 2.06-2.06.94zm-11 1L8.5 8.5l.94-2.06 2.06-.94-2.06-.94L8.5 2.5l-.94 2.06-2.06.94zm10 10l.94 2.06.94-2.06 2.06-.94-2.06-.94-.94-2.06-.94 2.06-2.06.94z\"/><path d=\"M17.41 7.96l-1.37-1.37c-.4-.4-.92-.59-1.43-.59-.52 0-1.04.2-1.43.59L10.3 9.45l-7.72 7.72c-.78.78-.78 2.05 0 2.83L4 21.41c.39.39.9.59 1.41.59.51 0 1.02-.2 1.41-.59l7.78-7.78 2.81-2.81c.8-.78.8-2.07 0-2.86zM5.41 20L4 18.59l7.72-7.72 1.47 1.35L5.41 20z\"/>\n",
              "  </svg>\n",
              "      </button>\n",
              "      \n",
              "  <style>\n",
              "    .colab-df-container {\n",
              "      display:flex;\n",
              "      flex-wrap:wrap;\n",
              "      gap: 12px;\n",
              "    }\n",
              "\n",
              "    .colab-df-convert {\n",
              "      background-color: #E8F0FE;\n",
              "      border: none;\n",
              "      border-radius: 50%;\n",
              "      cursor: pointer;\n",
              "      display: none;\n",
              "      fill: #1967D2;\n",
              "      height: 32px;\n",
              "      padding: 0 0 0 0;\n",
              "      width: 32px;\n",
              "    }\n",
              "\n",
              "    .colab-df-convert:hover {\n",
              "      background-color: #E2EBFA;\n",
              "      box-shadow: 0px 1px 2px rgba(60, 64, 67, 0.3), 0px 1px 3px 1px rgba(60, 64, 67, 0.15);\n",
              "      fill: #174EA6;\n",
              "    }\n",
              "\n",
              "    [theme=dark] .colab-df-convert {\n",
              "      background-color: #3B4455;\n",
              "      fill: #D2E3FC;\n",
              "    }\n",
              "\n",
              "    [theme=dark] .colab-df-convert:hover {\n",
              "      background-color: #434B5C;\n",
              "      box-shadow: 0px 1px 3px 1px rgba(0, 0, 0, 0.15);\n",
              "      filter: drop-shadow(0px 1px 2px rgba(0, 0, 0, 0.3));\n",
              "      fill: #FFFFFF;\n",
              "    }\n",
              "  </style>\n",
              "\n",
              "      <script>\n",
              "        const buttonEl =\n",
              "          document.querySelector('#df-a90d3d28-4b42-43c6-988e-997584917dc3 button.colab-df-convert');\n",
              "        buttonEl.style.display =\n",
              "          google.colab.kernel.accessAllowed ? 'block' : 'none';\n",
              "\n",
              "        async function convertToInteractive(key) {\n",
              "          const element = document.querySelector('#df-a90d3d28-4b42-43c6-988e-997584917dc3');\n",
              "          const dataTable =\n",
              "            await google.colab.kernel.invokeFunction('convertToInteractive',\n",
              "                                                     [key], {});\n",
              "          if (!dataTable) return;\n",
              "\n",
              "          const docLinkHtml = 'Like what you see? Visit the ' +\n",
              "            '<a target=\"_blank\" href=https://colab.research.google.com/notebooks/data_table.ipynb>data table notebook</a>'\n",
              "            + ' to learn more about interactive tables.';\n",
              "          element.innerHTML = '';\n",
              "          dataTable['output_type'] = 'display_data';\n",
              "          await google.colab.output.renderOutput(dataTable, element);\n",
              "          const docLink = document.createElement('div');\n",
              "          docLink.innerHTML = docLinkHtml;\n",
              "          element.appendChild(docLink);\n",
              "        }\n",
              "      </script>\n",
              "    </div>\n",
              "  </div>\n",
              "  "
            ]
          },
          "metadata": {},
          "execution_count": 14
        }
      ],
      "source": [
        "df.describe()"
      ]
    },
    {
      "cell_type": "code",
      "execution_count": 15,
      "id": "f3a7795e",
      "metadata": {
        "id": "f3a7795e"
      },
      "outputs": [],
      "source": [
        "df = df.drop(['url','city_id','zipcode','currency','country_id'] , axis = 1)"
      ]
    },
    {
      "cell_type": "code",
      "execution_count": 16,
      "id": "20466f75",
      "metadata": {
        "scrolled": false,
        "colab": {
          "base_uri": "https://localhost:8080/",
          "height": 785
        },
        "id": "20466f75",
        "outputId": "46da4c43-fc91-44c9-811c-459a9dbc6c74"
      },
      "outputs": [
        {
          "output_type": "execute_result",
          "data": {
            "text/plain": [
              "    res_id                            name      establishment  \\\n",
              "0  3400299                     Bikanervala    ['Quick Bites']   \n",
              "1  3400005  Mama Chicken Mama Franky House    ['Quick Bites']   \n",
              "2  3401013                   Bhagat Halwai    ['Quick Bites']   \n",
              "3  3400290                   Bhagat Halwai    ['Quick Bites']   \n",
              "4  3401744     The Salt Cafe Kitchen & Bar  ['Casual Dining']   \n",
              "\n",
              "                                             address  city     locality  \\\n",
              "0  Kalyani Point, Near Tulsi Cinema, Bypass Road,...  Agra     Khandari   \n",
              "1        Main Market, Sadar Bazaar, Agra Cantt, Agra  Agra   Agra Cantt   \n",
              "2  62/1, Near Easy Day, West Shivaji Nagar, Goalp...  Agra     Shahganj   \n",
              "3  Near Anjana Cinema, Nehru Nagar, Civil Lines, ...  Agra  Civil Lines   \n",
              "4        1C,3rd Floor, Fatehabad Road, Tajganj, Agra  Agra      Tajganj   \n",
              "\n",
              "    latitude  longitude   locality_verbose  \\\n",
              "0  27.211450  78.002381     Khandari, Agra   \n",
              "1  27.160569  78.011583   Agra Cantt, Agra   \n",
              "2  27.182938  77.979684     Shahganj, Agra   \n",
              "3  27.205668  78.004799  Civil Lines, Agra   \n",
              "4  27.157709  78.052421      Tajganj, Agra   \n",
              "\n",
              "                                            cuisines  ...  \\\n",
              "0  North Indian, South Indian, Mithai, Street Foo...  ...   \n",
              "1  North Indian, Mughlai, Rolls, Chinese, Fast Fo...  ...   \n",
              "2                                  Fast Food, Mithai  ...   \n",
              "3          Desserts, Bakery, Fast Food, South Indian  ...   \n",
              "4                 North Indian, Continental, Italian  ...   \n",
              "\n",
              "  average_cost_for_two  price_range  \\\n",
              "0                  700            2   \n",
              "1                  600            2   \n",
              "2                  300            1   \n",
              "3                  300            1   \n",
              "4                 1000            3   \n",
              "\n",
              "                                          highlights aggregate_rating  \\\n",
              "0  ['Lunch', 'Takeaway Available', 'Credit Card',...              4.4   \n",
              "1  ['Delivery', 'No Alcohol Available', 'Dinner',...              4.4   \n",
              "2  ['No Alcohol Available', 'Dinner', 'Takeaway A...              4.2   \n",
              "3  ['Takeaway Available', 'Credit Card', 'Lunch',...              4.3   \n",
              "4  ['Lunch', 'Serves Alcohol', 'Cash', 'Credit Ca...              4.9   \n",
              "\n",
              "   rating_text votes  photo_count  opentable_support  delivery  takeaway  \n",
              "0    Very Good   814          154                0.0        -1        -1  \n",
              "1    Very Good  1203          161                0.0        -1        -1  \n",
              "2    Very Good   801          107                0.0         1        -1  \n",
              "3    Very Good   693          157                0.0         1        -1  \n",
              "4    Excellent   470          291                0.0         1        -1  \n",
              "\n",
              "[5 rows x 21 columns]"
            ],
            "text/html": [
              "\n",
              "  <div id=\"df-7eee7d82-2989-4d1f-b4fc-3d433d2ce43e\">\n",
              "    <div class=\"colab-df-container\">\n",
              "      <div>\n",
              "<style scoped>\n",
              "    .dataframe tbody tr th:only-of-type {\n",
              "        vertical-align: middle;\n",
              "    }\n",
              "\n",
              "    .dataframe tbody tr th {\n",
              "        vertical-align: top;\n",
              "    }\n",
              "\n",
              "    .dataframe thead th {\n",
              "        text-align: right;\n",
              "    }\n",
              "</style>\n",
              "<table border=\"1\" class=\"dataframe\">\n",
              "  <thead>\n",
              "    <tr style=\"text-align: right;\">\n",
              "      <th></th>\n",
              "      <th>res_id</th>\n",
              "      <th>name</th>\n",
              "      <th>establishment</th>\n",
              "      <th>address</th>\n",
              "      <th>city</th>\n",
              "      <th>locality</th>\n",
              "      <th>latitude</th>\n",
              "      <th>longitude</th>\n",
              "      <th>locality_verbose</th>\n",
              "      <th>cuisines</th>\n",
              "      <th>...</th>\n",
              "      <th>average_cost_for_two</th>\n",
              "      <th>price_range</th>\n",
              "      <th>highlights</th>\n",
              "      <th>aggregate_rating</th>\n",
              "      <th>rating_text</th>\n",
              "      <th>votes</th>\n",
              "      <th>photo_count</th>\n",
              "      <th>opentable_support</th>\n",
              "      <th>delivery</th>\n",
              "      <th>takeaway</th>\n",
              "    </tr>\n",
              "  </thead>\n",
              "  <tbody>\n",
              "    <tr>\n",
              "      <th>0</th>\n",
              "      <td>3400299</td>\n",
              "      <td>Bikanervala</td>\n",
              "      <td>['Quick Bites']</td>\n",
              "      <td>Kalyani Point, Near Tulsi Cinema, Bypass Road,...</td>\n",
              "      <td>Agra</td>\n",
              "      <td>Khandari</td>\n",
              "      <td>27.211450</td>\n",
              "      <td>78.002381</td>\n",
              "      <td>Khandari, Agra</td>\n",
              "      <td>North Indian, South Indian, Mithai, Street Foo...</td>\n",
              "      <td>...</td>\n",
              "      <td>700</td>\n",
              "      <td>2</td>\n",
              "      <td>['Lunch', 'Takeaway Available', 'Credit Card',...</td>\n",
              "      <td>4.4</td>\n",
              "      <td>Very Good</td>\n",
              "      <td>814</td>\n",
              "      <td>154</td>\n",
              "      <td>0.0</td>\n",
              "      <td>-1</td>\n",
              "      <td>-1</td>\n",
              "    </tr>\n",
              "    <tr>\n",
              "      <th>1</th>\n",
              "      <td>3400005</td>\n",
              "      <td>Mama Chicken Mama Franky House</td>\n",
              "      <td>['Quick Bites']</td>\n",
              "      <td>Main Market, Sadar Bazaar, Agra Cantt, Agra</td>\n",
              "      <td>Agra</td>\n",
              "      <td>Agra Cantt</td>\n",
              "      <td>27.160569</td>\n",
              "      <td>78.011583</td>\n",
              "      <td>Agra Cantt, Agra</td>\n",
              "      <td>North Indian, Mughlai, Rolls, Chinese, Fast Fo...</td>\n",
              "      <td>...</td>\n",
              "      <td>600</td>\n",
              "      <td>2</td>\n",
              "      <td>['Delivery', 'No Alcohol Available', 'Dinner',...</td>\n",
              "      <td>4.4</td>\n",
              "      <td>Very Good</td>\n",
              "      <td>1203</td>\n",
              "      <td>161</td>\n",
              "      <td>0.0</td>\n",
              "      <td>-1</td>\n",
              "      <td>-1</td>\n",
              "    </tr>\n",
              "    <tr>\n",
              "      <th>2</th>\n",
              "      <td>3401013</td>\n",
              "      <td>Bhagat Halwai</td>\n",
              "      <td>['Quick Bites']</td>\n",
              "      <td>62/1, Near Easy Day, West Shivaji Nagar, Goalp...</td>\n",
              "      <td>Agra</td>\n",
              "      <td>Shahganj</td>\n",
              "      <td>27.182938</td>\n",
              "      <td>77.979684</td>\n",
              "      <td>Shahganj, Agra</td>\n",
              "      <td>Fast Food, Mithai</td>\n",
              "      <td>...</td>\n",
              "      <td>300</td>\n",
              "      <td>1</td>\n",
              "      <td>['No Alcohol Available', 'Dinner', 'Takeaway A...</td>\n",
              "      <td>4.2</td>\n",
              "      <td>Very Good</td>\n",
              "      <td>801</td>\n",
              "      <td>107</td>\n",
              "      <td>0.0</td>\n",
              "      <td>1</td>\n",
              "      <td>-1</td>\n",
              "    </tr>\n",
              "    <tr>\n",
              "      <th>3</th>\n",
              "      <td>3400290</td>\n",
              "      <td>Bhagat Halwai</td>\n",
              "      <td>['Quick Bites']</td>\n",
              "      <td>Near Anjana Cinema, Nehru Nagar, Civil Lines, ...</td>\n",
              "      <td>Agra</td>\n",
              "      <td>Civil Lines</td>\n",
              "      <td>27.205668</td>\n",
              "      <td>78.004799</td>\n",
              "      <td>Civil Lines, Agra</td>\n",
              "      <td>Desserts, Bakery, Fast Food, South Indian</td>\n",
              "      <td>...</td>\n",
              "      <td>300</td>\n",
              "      <td>1</td>\n",
              "      <td>['Takeaway Available', 'Credit Card', 'Lunch',...</td>\n",
              "      <td>4.3</td>\n",
              "      <td>Very Good</td>\n",
              "      <td>693</td>\n",
              "      <td>157</td>\n",
              "      <td>0.0</td>\n",
              "      <td>1</td>\n",
              "      <td>-1</td>\n",
              "    </tr>\n",
              "    <tr>\n",
              "      <th>4</th>\n",
              "      <td>3401744</td>\n",
              "      <td>The Salt Cafe Kitchen &amp; Bar</td>\n",
              "      <td>['Casual Dining']</td>\n",
              "      <td>1C,3rd Floor, Fatehabad Road, Tajganj, Agra</td>\n",
              "      <td>Agra</td>\n",
              "      <td>Tajganj</td>\n",
              "      <td>27.157709</td>\n",
              "      <td>78.052421</td>\n",
              "      <td>Tajganj, Agra</td>\n",
              "      <td>North Indian, Continental, Italian</td>\n",
              "      <td>...</td>\n",
              "      <td>1000</td>\n",
              "      <td>3</td>\n",
              "      <td>['Lunch', 'Serves Alcohol', 'Cash', 'Credit Ca...</td>\n",
              "      <td>4.9</td>\n",
              "      <td>Excellent</td>\n",
              "      <td>470</td>\n",
              "      <td>291</td>\n",
              "      <td>0.0</td>\n",
              "      <td>1</td>\n",
              "      <td>-1</td>\n",
              "    </tr>\n",
              "  </tbody>\n",
              "</table>\n",
              "<p>5 rows × 21 columns</p>\n",
              "</div>\n",
              "      <button class=\"colab-df-convert\" onclick=\"convertToInteractive('df-7eee7d82-2989-4d1f-b4fc-3d433d2ce43e')\"\n",
              "              title=\"Convert this dataframe to an interactive table.\"\n",
              "              style=\"display:none;\">\n",
              "        \n",
              "  <svg xmlns=\"http://www.w3.org/2000/svg\" height=\"24px\"viewBox=\"0 0 24 24\"\n",
              "       width=\"24px\">\n",
              "    <path d=\"M0 0h24v24H0V0z\" fill=\"none\"/>\n",
              "    <path d=\"M18.56 5.44l.94 2.06.94-2.06 2.06-.94-2.06-.94-.94-2.06-.94 2.06-2.06.94zm-11 1L8.5 8.5l.94-2.06 2.06-.94-2.06-.94L8.5 2.5l-.94 2.06-2.06.94zm10 10l.94 2.06.94-2.06 2.06-.94-2.06-.94-.94-2.06-.94 2.06-2.06.94z\"/><path d=\"M17.41 7.96l-1.37-1.37c-.4-.4-.92-.59-1.43-.59-.52 0-1.04.2-1.43.59L10.3 9.45l-7.72 7.72c-.78.78-.78 2.05 0 2.83L4 21.41c.39.39.9.59 1.41.59.51 0 1.02-.2 1.41-.59l7.78-7.78 2.81-2.81c.8-.78.8-2.07 0-2.86zM5.41 20L4 18.59l7.72-7.72 1.47 1.35L5.41 20z\"/>\n",
              "  </svg>\n",
              "      </button>\n",
              "      \n",
              "  <style>\n",
              "    .colab-df-container {\n",
              "      display:flex;\n",
              "      flex-wrap:wrap;\n",
              "      gap: 12px;\n",
              "    }\n",
              "\n",
              "    .colab-df-convert {\n",
              "      background-color: #E8F0FE;\n",
              "      border: none;\n",
              "      border-radius: 50%;\n",
              "      cursor: pointer;\n",
              "      display: none;\n",
              "      fill: #1967D2;\n",
              "      height: 32px;\n",
              "      padding: 0 0 0 0;\n",
              "      width: 32px;\n",
              "    }\n",
              "\n",
              "    .colab-df-convert:hover {\n",
              "      background-color: #E2EBFA;\n",
              "      box-shadow: 0px 1px 2px rgba(60, 64, 67, 0.3), 0px 1px 3px 1px rgba(60, 64, 67, 0.15);\n",
              "      fill: #174EA6;\n",
              "    }\n",
              "\n",
              "    [theme=dark] .colab-df-convert {\n",
              "      background-color: #3B4455;\n",
              "      fill: #D2E3FC;\n",
              "    }\n",
              "\n",
              "    [theme=dark] .colab-df-convert:hover {\n",
              "      background-color: #434B5C;\n",
              "      box-shadow: 0px 1px 3px 1px rgba(0, 0, 0, 0.15);\n",
              "      filter: drop-shadow(0px 1px 2px rgba(0, 0, 0, 0.3));\n",
              "      fill: #FFFFFF;\n",
              "    }\n",
              "  </style>\n",
              "\n",
              "      <script>\n",
              "        const buttonEl =\n",
              "          document.querySelector('#df-7eee7d82-2989-4d1f-b4fc-3d433d2ce43e button.colab-df-convert');\n",
              "        buttonEl.style.display =\n",
              "          google.colab.kernel.accessAllowed ? 'block' : 'none';\n",
              "\n",
              "        async function convertToInteractive(key) {\n",
              "          const element = document.querySelector('#df-7eee7d82-2989-4d1f-b4fc-3d433d2ce43e');\n",
              "          const dataTable =\n",
              "            await google.colab.kernel.invokeFunction('convertToInteractive',\n",
              "                                                     [key], {});\n",
              "          if (!dataTable) return;\n",
              "\n",
              "          const docLinkHtml = 'Like what you see? Visit the ' +\n",
              "            '<a target=\"_blank\" href=https://colab.research.google.com/notebooks/data_table.ipynb>data table notebook</a>'\n",
              "            + ' to learn more about interactive tables.';\n",
              "          element.innerHTML = '';\n",
              "          dataTable['output_type'] = 'display_data';\n",
              "          await google.colab.output.renderOutput(dataTable, element);\n",
              "          const docLink = document.createElement('div');\n",
              "          docLink.innerHTML = docLinkHtml;\n",
              "          element.appendChild(docLink);\n",
              "        }\n",
              "      </script>\n",
              "    </div>\n",
              "  </div>\n",
              "  "
            ]
          },
          "metadata": {},
          "execution_count": 16
        }
      ],
      "source": [
        "df.head()"
      ]
    },
    {
      "cell_type": "code",
      "execution_count": 17,
      "id": "9c6c4a7d",
      "metadata": {
        "scrolled": false,
        "colab": {
          "base_uri": "https://localhost:8080/"
        },
        "id": "9c6c4a7d",
        "outputId": "f8a42d83-6a13-4c62-9fd9-b197f0313994"
      },
      "outputs": [
        {
          "output_type": "stream",
          "name": "stdout",
          "text": [
            "<class 'pandas.core.frame.DataFrame'>\n",
            "RangeIndex: 211944 entries, 0 to 211943\n",
            "Data columns (total 21 columns):\n",
            " #   Column                Non-Null Count   Dtype  \n",
            "---  ------                --------------   -----  \n",
            " 0   res_id                211944 non-null  int64  \n",
            " 1   name                  211944 non-null  object \n",
            " 2   establishment         211944 non-null  object \n",
            " 3   address               211810 non-null  object \n",
            " 4   city                  211944 non-null  object \n",
            " 5   locality              211944 non-null  object \n",
            " 6   latitude              211944 non-null  float64\n",
            " 7   longitude             211944 non-null  float64\n",
            " 8   locality_verbose      211944 non-null  object \n",
            " 9   cuisines              210553 non-null  object \n",
            " 10  timings               208070 non-null  object \n",
            " 11  average_cost_for_two  211944 non-null  int64  \n",
            " 12  price_range           211944 non-null  int64  \n",
            " 13  highlights            211944 non-null  object \n",
            " 14  aggregate_rating      211944 non-null  float64\n",
            " 15  rating_text           211944 non-null  object \n",
            " 16  votes                 211944 non-null  int64  \n",
            " 17  photo_count           211944 non-null  int64  \n",
            " 18  opentable_support     211896 non-null  float64\n",
            " 19  delivery              211944 non-null  int64  \n",
            " 20  takeaway              211944 non-null  int64  \n",
            "dtypes: float64(4), int64(7), object(10)\n",
            "memory usage: 34.0+ MB\n"
          ]
        }
      ],
      "source": [
        "df.info()"
      ]
    },
    {
      "cell_type": "code",
      "execution_count": 18,
      "id": "c67ba8e9",
      "metadata": {
        "colab": {
          "base_uri": "https://localhost:8080/"
        },
        "id": "c67ba8e9",
        "outputId": "562c4b09-2f5e-4791-9929-89ede2949858"
      },
      "outputs": [
        {
          "output_type": "execute_result",
          "data": {
            "text/plain": [
              "0    11 AM to 11 PM\n",
              "dtype: object"
            ]
          },
          "metadata": {},
          "execution_count": 18
        }
      ],
      "source": [
        "df['timings'].mode()"
      ]
    },
    {
      "cell_type": "code",
      "execution_count": 19,
      "id": "01f9dd22",
      "metadata": {
        "colab": {
          "base_uri": "https://localhost:8080/"
        },
        "id": "01f9dd22",
        "outputId": "01ae2b27-4dd8-4a55-f93f-e24455124eb1"
      },
      "outputs": [
        {
          "output_type": "execute_result",
          "data": {
            "text/plain": [
              "res_id                     0\n",
              "name                       0\n",
              "establishment              0\n",
              "address                  134\n",
              "city                       0\n",
              "locality                   0\n",
              "latitude                   0\n",
              "longitude                  0\n",
              "locality_verbose           0\n",
              "cuisines                1391\n",
              "timings                 3874\n",
              "average_cost_for_two       0\n",
              "price_range                0\n",
              "highlights                 0\n",
              "aggregate_rating           0\n",
              "rating_text                0\n",
              "votes                      0\n",
              "photo_count                0\n",
              "opentable_support         48\n",
              "delivery                   0\n",
              "takeaway                   0\n",
              "dtype: int64"
            ]
          },
          "metadata": {},
          "execution_count": 19
        }
      ],
      "source": [
        "df.isnull().sum()"
      ]
    },
    {
      "cell_type": "code",
      "execution_count": 20,
      "id": "98566b2b",
      "metadata": {
        "id": "98566b2b"
      },
      "outputs": [],
      "source": [
        "df[\"cuisines\"]=df[\"cuisines\"].fillna(\"No cuisine\")"
      ]
    },
    {
      "cell_type": "code",
      "execution_count": 21,
      "id": "8893a9fd",
      "metadata": {
        "id": "8893a9fd"
      },
      "outputs": [],
      "source": [
        "df[\"address\"]=df[\"address\"].fillna(\"Address not given\")"
      ]
    },
    {
      "cell_type": "code",
      "execution_count": 22,
      "id": "ad91bd38",
      "metadata": {
        "id": "ad91bd38"
      },
      "outputs": [],
      "source": [
        "df[\"timings\"]=df[\"timings\"].fillna(df[\"timings\"].mode)"
      ]
    },
    {
      "cell_type": "code",
      "execution_count": 23,
      "id": "f3e3e289",
      "metadata": {
        "colab": {
          "base_uri": "https://localhost:8080/"
        },
        "id": "f3e3e289",
        "outputId": "6b97e7a3-5b7f-4728-f06a-bdc07307e9df"
      },
      "outputs": [
        {
          "output_type": "execute_result",
          "data": {
            "text/plain": [
              "res_id                   0\n",
              "name                     0\n",
              "establishment            0\n",
              "address                  0\n",
              "city                     0\n",
              "locality                 0\n",
              "latitude                 0\n",
              "longitude                0\n",
              "locality_verbose         0\n",
              "cuisines                 0\n",
              "timings                  0\n",
              "average_cost_for_two     0\n",
              "price_range              0\n",
              "highlights               0\n",
              "aggregate_rating         0\n",
              "rating_text              0\n",
              "votes                    0\n",
              "photo_count              0\n",
              "opentable_support       48\n",
              "delivery                 0\n",
              "takeaway                 0\n",
              "dtype: int64"
            ]
          },
          "metadata": {},
          "execution_count": 23
        }
      ],
      "source": [
        "df.isnull().sum()"
      ]
    },
    {
      "cell_type": "code",
      "execution_count": 24,
      "id": "30156e9d",
      "metadata": {
        "colab": {
          "base_uri": "https://localhost:8080/"
        },
        "id": "30156e9d",
        "outputId": "c6eafe81-6894-49c9-91a3-5c67aa6b2334"
      },
      "outputs": [
        {
          "output_type": "execute_result",
          "data": {
            "text/plain": [
              "count    211896.0\n",
              "mean          0.0\n",
              "std           0.0\n",
              "min           0.0\n",
              "25%           0.0\n",
              "50%           0.0\n",
              "75%           0.0\n",
              "max           0.0\n",
              "Name: opentable_support, dtype: float64"
            ]
          },
          "metadata": {},
          "execution_count": 24
        }
      ],
      "source": [
        "df[\"opentable_support\"].describe()"
      ]
    },
    {
      "cell_type": "code",
      "execution_count": 25,
      "id": "4c9489bb",
      "metadata": {
        "colab": {
          "base_uri": "https://localhost:8080/"
        },
        "id": "4c9489bb",
        "outputId": "67759ff9-a42c-4f10-acfe-d41e346679c2"
      },
      "outputs": [
        {
          "output_type": "execute_result",
          "data": {
            "text/plain": [
              "array([2, 1, 3, 4])"
            ]
          },
          "metadata": {},
          "execution_count": 25
        }
      ],
      "source": [
        "df[\"price_range\"].unique()\n"
      ]
    },
    {
      "cell_type": "code",
      "execution_count": 26,
      "id": "a6503712",
      "metadata": {
        "colab": {
          "base_uri": "https://localhost:8080/"
        },
        "id": "a6503712",
        "outputId": "2b39fe08-2777-45d4-bb73-716bb7e9668c"
      },
      "outputs": [
        {
          "output_type": "execute_result",
          "data": {
            "text/plain": [
              "Domino's Pizza           3108\n",
              "KFC                      1343\n",
              "Cafe Coffee Day          1068\n",
              "Pizza Hut                 936\n",
              "Subway                    766\n",
              "                         ... \n",
              "Night Rocket                1\n",
              "Daughter's Cook House       1\n",
              "Punjabi Flavours            1\n",
              "Majlis  E Mughal            1\n",
              "Geeta lodge                 1\n",
              "Name: name, Length: 41100, dtype: int64"
            ]
          },
          "metadata": {},
          "execution_count": 26
        }
      ],
      "source": [
        "outlets=df[\"name\"].value_counts()\n",
        "outlets"
      ]
    },
    {
      "cell_type": "code",
      "execution_count": 27,
      "id": "56b89ca3",
      "metadata": {
        "id": "56b89ca3"
      },
      "outputs": [],
      "source": [
        "outlets_having_chain=outlets[outlets>=2]\n",
        "outlets_having_NoChain=outlets[outlets==1]"
      ]
    },
    {
      "cell_type": "code",
      "execution_count": 28,
      "id": "15752777",
      "metadata": {
        "colab": {
          "base_uri": "https://localhost:8080/"
        },
        "id": "15752777",
        "outputId": "71ec63d5-ab91-4b13-c5b7-d8e08fdd83e0"
      },
      "outputs": [
        {
          "output_type": "execute_result",
          "data": {
            "text/plain": [
              "Domino's Pizza                      3108\n",
              "KFC                                 1343\n",
              "Cafe Coffee Day                     1068\n",
              "Pizza Hut                            936\n",
              "Subway                               766\n",
              "                                    ... \n",
              "Apna Cafe                              2\n",
              "Quality Cool Cafe And Cold Drink       2\n",
              "Shake Valley                           2\n",
              "Cake Room                              2\n",
              "Honey Confectionery                    2\n",
              "Name: name, Length: 24506, dtype: int64"
            ]
          },
          "metadata": {},
          "execution_count": 28
        }
      ],
      "source": [
        "outlets_having_chain"
      ]
    },
    {
      "cell_type": "code",
      "execution_count": 29,
      "id": "2c383ed1",
      "metadata": {
        "colab": {
          "base_uri": "https://localhost:8080/"
        },
        "id": "2c383ed1",
        "outputId": "15a6df78-b551-40de-d094-f5b2329e641a"
      },
      "outputs": [
        {
          "output_type": "execute_result",
          "data": {
            "text/plain": [
              "Omm Sairam Restaurant        1\n",
              "Mitha & Pitha                1\n",
              "Trimurti Rajputana Lodge     1\n",
              "Kuro - Renaissance Hotel     1\n",
              "Atmaram's Sweets & Snacks    1\n",
              "                            ..\n",
              "Night Rocket                 1\n",
              "Daughter's Cook House        1\n",
              "Punjabi Flavours             1\n",
              "Majlis  E Mughal             1\n",
              "Geeta lodge                  1\n",
              "Name: name, Length: 16594, dtype: int64"
            ]
          },
          "metadata": {},
          "execution_count": 29
        }
      ],
      "source": [
        "outlets_having_NoChain"
      ]
    },
    {
      "cell_type": "code",
      "execution_count": 30,
      "id": "e6831ce8",
      "metadata": {
        "colab": {
          "base_uri": "https://localhost:8080/"
        },
        "id": "e6831ce8",
        "outputId": "7c383fdd-ef83-4aac-be9c-5bca4a39b5ab"
      },
      "outputs": [
        {
          "output_type": "stream",
          "name": "stdout",
          "text": [
            "False    24506\n",
            "True     16594\n",
            "Name: name, dtype: int64\n"
          ]
        }
      ],
      "source": [
        "print((df['name'].value_counts()==1).value_counts())\n"
      ]
    },
    {
      "cell_type": "code",
      "execution_count": 31,
      "id": "ae50fd35",
      "metadata": {
        "colab": {
          "base_uri": "https://localhost:8080/",
          "height": 585
        },
        "id": "ae50fd35",
        "outputId": "bb10bb64-d52c-441d-b721-1ec398c51f96"
      },
      "outputs": [
        {
          "output_type": "execute_result",
          "data": {
            "text/plain": [
              "Text(0, 0.5, 'Number of Restaurants on Zomato')"
            ]
          },
          "metadata": {},
          "execution_count": 31
        },
        {
          "output_type": "display_data",
          "data": {
            "text/plain": [
              "<Figure size 648x504 with 1 Axes>"
            ],
            "image/png": "[encoded data removed]"
          },
          "metadata": {
            "needs_background": "light"
          }
        }
      ],
      "source": [
        "outlet= (df['name'].value_counts()).head(25)\n",
        "outlet.plot(kind='bar', figsize=(9, 7))\n",
        "plt.xlabel(\"outlets\")\n",
        "plt.ylabel(\"Number of Restaurants on Zomato\")"
      ]
    },
    {
      "cell_type": "code",
      "execution_count": 31,
      "id": "e592ccc6",
      "metadata": {
        "id": "e592ccc6"
      },
      "outputs": [],
      "source": []
    },
    {
      "cell_type": "code",
      "execution_count": 31,
      "id": "6a053ad9",
      "metadata": {
        "id": "6a053ad9"
      },
      "outputs": [],
      "source": []
    },
    {
      "cell_type": "code",
      "execution_count": 31,
      "id": "a3d543f5",
      "metadata": {
        "id": "a3d543f5"
      },
      "outputs": [],
      "source": []
    },
    {
      "cell_type": "code",
      "execution_count": 31,
      "id": "89766d87",
      "metadata": {
        "id": "89766d87"
      },
      "outputs": [],
      "source": []
    },
    {
      "cell_type": "code",
      "execution_count": 32,
      "id": "d9d153d7",
      "metadata": {
        "colab": {
          "base_uri": "https://localhost:8080/",
          "height": 572
        },
        "id": "d9d153d7",
        "outputId": "0ea47714-3b5c-4e37-fd04-91328aa939ce"
      },
      "outputs": [
        {
          "output_type": "stream",
          "name": "stderr",
          "text": [
            "/usr/local/lib/python3.7/dist-packages/seaborn/distributions.py:2619: FutureWarning: `distplot` is a deprecated function and will be removed in a future version. Please adapt your code to use either `displot` (a figure-level function with similar flexibility) or `histplot` (an axes-level function for histograms).\n",
            "  warnings.warn(msg, FutureWarning)\n"
          ]
        },
        {
          "output_type": "display_data",
          "data": {
            "text/plain": [
              "<Figure size 842.4x595.44 with 1 Axes>"
            ],
            "image/png": "[encoded data removed]"
          },
          "metadata": {}
        }
      ],
      "source": [
        "sns.set(rc={'figure.figsize':(11.7,8.27)})\n",
        "sns.distplot(df['aggregate_rating'])\n",
        "plt.show()"
      ]
    },
    {
      "cell_type": "code",
      "execution_count": 33,
      "id": "8bcfe084",
      "metadata": {
        "colab": {
          "base_uri": "https://localhost:8080/",
          "height": 725
        },
        "id": "8bcfe084",
        "outputId": "70a4c6c7-9842-4a68-a79e-02a9d3b8fbe9"
      },
      "outputs": [
        {
          "output_type": "execute_result",
          "data": {
            "text/plain": [
              "<matplotlib.axes._subplots.AxesSubplot at 0x7f0bc30266d0>"
            ]
          },
          "metadata": {},
          "execution_count": 33
        },
        {
          "output_type": "display_data",
          "data": {
            "text/plain": [
              "<Figure size 1008x720 with 2 Axes>"
            ],
            "image/png": "[encoded data removed]"
          },
          "metadata": {}
        }
      ],
      "source": [
        "plt.figure(figsize=(14,10))\n",
        "correlation_matrix = df.corr().round(2)\n",
        "# annot = True to print the values inside the square\n",
        "sns.heatmap(data=correlation_matrix, annot=True,linewidths=1)"
      ]
    },
    {
      "cell_type": "code",
      "execution_count": 34,
      "id": "81d099fa",
      "metadata": {
        "colab": {
          "base_uri": "https://localhost:8080/",
          "height": 589
        },
        "id": "81d099fa",
        "outputId": "5426c2b5-c930-4389-8469-80bd6e9adb89"
      },
      "outputs": [
        {
          "output_type": "stream",
          "name": "stderr",
          "text": [
            "/usr/local/lib/python3.7/dist-packages/seaborn/_decorators.py:43: FutureWarning: Pass the following variable as a keyword arg: x. From version 0.12, the only valid positional argument will be `data`, and passing other arguments without an explicit keyword will result in an error or misinterpretation.\n",
            "  FutureWarning\n"
          ]
        },
        {
          "output_type": "execute_result",
          "data": {
            "text/plain": [
              "<matplotlib.axes._subplots.AxesSubplot at 0x7f0bc2dfb7d0>"
            ]
          },
          "metadata": {},
          "execution_count": 34
        },
        {
          "output_type": "display_data",
          "data": {
            "text/plain": [
              "<Figure size 842.4x595.44 with 1 Axes>"
            ],
            "image/png": "[encoded data removed]"
          },
          "metadata": {}
        }
      ],
      "source": [
        "sns.countplot(df['price_range'])\n"
      ]
    },
    {
      "cell_type": "code",
      "execution_count": 35,
      "id": "9dde24c7",
      "metadata": {
        "colab": {
          "base_uri": "https://localhost:8080/",
          "height": 483
        },
        "id": "9dde24c7",
        "outputId": "de6d6b0a-f598-4c5b-9adc-90e57168523c"
      },
      "outputs": [
        {
          "output_type": "execute_result",
          "data": {
            "text/plain": [
              "<matplotlib.axes._subplots.AxesSubplot at 0x7f0bc3c1ca90>"
            ]
          },
          "metadata": {},
          "execution_count": 35
        },
        {
          "output_type": "display_data",
          "data": {
            "text/plain": [
              "<Figure size 720x576 with 1 Axes>"
            ],
            "image/png": "[encoded data removed]"
          },
          "metadata": {}
        }
      ],
      "source": [
        "df.price_range.value_counts(normalize=True).plot(kind='pie', figsize=(10,8), autopct='%1.1f%%')"
      ]
    },
    {
      "cell_type": "code",
      "execution_count": 36,
      "id": "2ab472fb",
      "metadata": {
        "colab": {
          "base_uri": "https://localhost:8080/",
          "height": 499
        },
        "id": "2ab472fb",
        "outputId": "2f5fce3d-eb17-482e-a0fc-80c190ee63c5"
      },
      "outputs": [
        {
          "output_type": "execute_result",
          "data": {
            "text/plain": [
              "<matplotlib.axes._subplots.AxesSubplot at 0x7f0bc399ab50>"
            ]
          },
          "metadata": {},
          "execution_count": 36
        },
        {
          "output_type": "display_data",
          "data": {
            "text/plain": [
              "<Figure size 720x576 with 1 Axes>"
            ],
            "image/png": "[encoded data removed]"
          },
          "metadata": {}
        }
      ],
      "source": [
        "df.price_range.value_counts(normalize=True).plot(kind='bar', figsize=(10,8))"
      ]
    },
    {
      "cell_type": "code",
      "execution_count": 36,
      "id": "2145d8b5",
      "metadata": {
        "id": "2145d8b5"
      },
      "outputs": [],
      "source": []
    }
  ],
  "metadata": {
    "kernelspec": {
      "display_name": "Python 3 (ipykernel)",
      "language": "python",
      "name": "python3"
    },
    "language_info": {
      "codemirror_mode": {
        "name": "ipython",
        "version": 3
      },
      "file_extension": ".py",
      "mimetype": "text/x-python",
      "name": "python",
      "nbconvert_exporter": "python",
      "pygments_lexer": "ipython3",
      "version": "3.9.7"
    },
    "colab": {
      "provenance": [],
      "include_colab_link": true
    }
  },
  "nbformat": 4,
  "nbformat_minor": 5
}